{
 "metadata": {
  "name": "",
  "signature": "sha256:54dd96c7960ea4b6dc4095d6b8782d992f61f28afa2e3486b8ce3760472ea33f"
 },
 "nbformat": 3,
 "nbformat_minor": 0,
 "worksheets": [
  {
   "cells": [
    {
     "cell_type": "code",
     "collapsed": false,
     "input": [
      "import numpy as np\n",
      "from numpy import pi\n",
      "import scipy.ndimage as ndi\n",
      "import math as m\n",
      "import cv2\n",
      "from matplotlib import pyplot as plt\n",
      "import image_plot_utilities\n",
      "import resize_img"
     ],
     "language": "python",
     "metadata": {},
     "outputs": [],
     "prompt_number": 1
    },
    {
     "cell_type": "code",
     "collapsed": false,
     "input": [
      "#prob1 -image where grab cut works\n",
      "im_name='0465.jpg'\n",
      "img = cv2.imread(im_name)\n",
      "img=cv2.cvtColor(img,cv2.COLOR_BGR2RGB)\n",
      "img = resize_img.resize_img(img,500)\n",
      "image_plot_utilities.show_with_pixel_values(img)\n",
      "\n"
     ],
     "language": "python",
     "metadata": {},
     "outputs": [
      {
       "output_type": "stream",
       "stream": "stdout",
       "text": [
        "(500, 281)\n"
       ]
      }
     ],
     "prompt_number": 11
    },
    {
     "cell_type": "code",
     "collapsed": false,
     "input": [
      "img.shape"
     ],
     "language": "python",
     "metadata": {},
     "outputs": [
      {
       "metadata": {},
       "output_type": "pyout",
       "prompt_number": 3,
       "text": [
        "(281L, 500L, 3L)"
       ]
      }
     ],
     "prompt_number": 3
    },
    {
     "cell_type": "code",
     "collapsed": false,
     "input": [
      "\n",
      "\n",
      "#prob1 -contd\n",
      "# grab cut with  init_rect\n",
      "mask = np.zeros(img.shape[:2],np.uint8)\n",
      "\n",
      "bgdModel = np.zeros((1,65),np.float64)\n",
      "fgdModel = np.zeros((1,65),np.float64)\n",
      "\n",
      "rect = (120,170,180,200)\n",
      "cv2.grabCut(img,mask,rect,bgdModel,fgdModel,5,cv2.GC_INIT_WITH_RECT)\n",
      "\n",
      "mask2 = np.where((mask==2)|(mask==0),0,1).astype('uint8')\n",
      "img = img*mask2[:,:,np.newaxis]\n",
      "\n",
      "plt.imshow(img),plt.colorbar(),plt.show()\n",
      "\n"
     ],
     "language": "python",
     "metadata": {},
     "outputs": [
      {
       "metadata": {},
       "output_type": "pyout",
       "prompt_number": 12,
       "text": [
        "(<matplotlib.image.AxesImage at 0x1543d470>,\n",
        " <matplotlib.colorbar.Colorbar instance at 0x000000001554A1C8>,\n",
        " None)"
       ]
      }
     ],
     "prompt_number": 12
    },
    {
     "cell_type": "code",
     "collapsed": false,
     "input": [
      "#prob1-contd\n",
      "#imporving the grab cut using sure foreground and sure background masks\n",
      "mask[175:222,264:270] = 1\n",
      "mask[150:163,180:190] = 0\n",
      "mask[150:173,210:213]=0\n",
      "cv2.grabCut(img,mask,None,bgdModel,fgdModel,5,cv2.GC_INIT_WITH_MASK)\n",
      "\n",
      "mask = np.where((mask==2)|(mask==0),0,1).astype('uint8')\n",
      "img = img*mask[:,:,np.newaxis]\n",
      "plt.imshow(img),plt.colorbar(),plt.show()"
     ],
     "language": "python",
     "metadata": {},
     "outputs": [
      {
       "metadata": {},
       "output_type": "pyout",
       "prompt_number": 9,
       "text": [
        "(<matplotlib.image.AxesImage at 0x14dae978>,\n",
        " <matplotlib.colorbar.Colorbar instance at 0x00000000120AFA48>,\n",
        " None)"
       ]
      }
     ],
     "prompt_number": 9
    },
    {
     "cell_type": "code",
     "collapsed": false,
     "input": [
      "\n",
      "#!/usr/bin/env python\n",
      "'''\n",
      "===============================================================================\n",
      "Interactive Image Segmentation using GrabCut algorithm.\n",
      "This sample shows interactive image segmentation using grabcut algorithm.\n",
      "USAGE:\n",
      "    python grabcut.py <filename>\n",
      "README FIRST:\n",
      "    Two windows will show up, one for input and one for output.\n",
      "    At first, in input window, draw a rectangle around the object using\n",
      "mouse right button. Then press 'n' to segment the object (once or a few times)\n",
      "For any finer touch-ups, you can press any of the keys below and draw lines on\n",
      "the areas you want. Then again press 'n' for updating the output.\n",
      "Key '0' - To select areas of sure background\n",
      "Key '1' - To select areas of sure foreground\n",
      "Key '2' - To select areas of probable background\n",
      "Key '3' - To select areas of probable foreground\n",
      "Key 'n' - To update the segmentation\n",
      "Key 'r' - To reset the setup\n",
      "Key 's' - To save the results\n",
      "===============================================================================\n",
      "'''\n",
      "\n",
      "# Python 2/3 compatibility\n",
      "from __future__ import print_function\n",
      "\n",
      "import numpy as np\n",
      "import cv2\n",
      "import sys\n",
      "\n",
      "BLUE = [255,0,0]        # rectangle color\n",
      "RED = [0,0,255]         # PR BG\n",
      "GREEN = [0,255,0]       # PR FG\n",
      "BLACK = [0,0,0]         # sure BG\n",
      "WHITE = [255,255,255]   # sure FG\n",
      "\n",
      "DRAW_BG = {'color' : BLACK, 'val' : 0}\n",
      "DRAW_FG = {'color' : WHITE, 'val' : 1}\n",
      "DRAW_PR_FG = {'color' : GREEN, 'val' : 3}\n",
      "DRAW_PR_BG = {'color' : RED, 'val' : 2}\n",
      "\n",
      "# setting up flags\n",
      "rect = (0,0,1,1)\n",
      "drawing = False         # flag for drawing curves\n",
      "rectangle = False       # flag for drawing rect\n",
      "rect_over = False       # flag to check if rect drawn\n",
      "rect_or_mask = 100      # flag for selecting rect or mask mode\n",
      "value = DRAW_FG         # drawing initialized to FG\n",
      "thickness = 3           # brush thickness\n",
      "\n",
      "def onmouse(event,x,y,flags,param):\n",
      "    global img,img2,drawing,value,mask,rectangle,rect,rect_or_mask,ix,iy,rect_over\n",
      "\n",
      "    # Draw Rectangle\n",
      "    if event == cv2.EVENT_RBUTTONDOWN:\n",
      "        rectangle = True\n",
      "        ix,iy = x,y\n",
      "\n",
      "    elif event == cv2.EVENT_MOUSEMOVE:\n",
      "        if rectangle == True:\n",
      "            img = img2.copy()\n",
      "            cv2.rectangle(img,(ix,iy),(x,y),BLUE,2)\n",
      "            rect = (min(ix,x),min(iy,y),abs(ix-x),abs(iy-y))\n",
      "            rect_or_mask = 0\n",
      "\n",
      "    elif event == cv2.EVENT_RBUTTONUP:\n",
      "        rectangle = False\n",
      "        rect_over = True\n",
      "        cv2.rectangle(img,(ix,iy),(x,y),BLUE,2)\n",
      "        rect = (min(ix,x),min(iy,y),abs(ix-x),abs(iy-y))\n",
      "        rect_or_mask = 0\n",
      "        print(\" Now press the key 'n' a few times until no further change \\n\")\n",
      "\n",
      "    # draw touchup curves\n",
      "\n",
      "    if event == cv2.EVENT_LBUTTONDOWN:\n",
      "        if rect_over == False:\n",
      "            print(\"first draw rectangle \\n\")\n",
      "        else:\n",
      "            drawing = True\n",
      "            cv2.circle(img,(x,y),thickness,value['color'],-1)\n",
      "            cv2.circle(mask,(x,y),thickness,value['val'],-1)\n",
      "\n",
      "    elif event == cv2.EVENT_MOUSEMOVE:\n",
      "        if drawing == True:\n",
      "            cv2.circle(img,(x,y),thickness,value['color'],-1)\n",
      "            cv2.circle(mask,(x,y),thickness,value['val'],-1)\n",
      "\n",
      "    elif event == cv2.EVENT_LBUTTONUP:\n",
      "        if drawing == True:\n",
      "            drawing = False\n",
      "            cv2.circle(img,(x,y),thickness,value['color'],-1)\n",
      "            cv2.circle(mask,(x,y),thickness,value['val'],-1)\n",
      "\n",
      "if __name__ == '__main__':\n",
      "\n",
      "    # print documentation\n",
      "    print(__doc__)\n",
      "\n",
      "    # Loading images\n",
      "    if len(sys.argv) == 2:\n",
      "        filename = sys.argv[1] # for drawing purposes\n",
      "    else:\n",
      "        print(\"No input image given, so loading default image, ../data/lena.jpg \\n\")\n",
      "        print(\"Correct Usage: python grabcut.py <filename> \\n\")\n",
      "        filename = '../data/lena.jpg'\n",
      "    filename='0185.jpg'\n",
      "    img = cv2.imread(filename)\n",
      "    img = resize_img.resize_img(img,500)\n",
      "    img2 = img.copy()                               # a copy of original image\n",
      "    mask = np.zeros(img.shape[:2],dtype = np.uint8) # mask initialized to PR_BG\n",
      "    output = np.zeros(img.shape,np.uint8)           # output image to be shown\n",
      "\n",
      "    # input and output windows\n",
      "    cv2.namedWindow('output')\n",
      "    cv2.namedWindow('input')\n",
      "    cv2.setMouseCallback('input',onmouse)\n",
      "    cv2.moveWindow('input',img.shape[1]+10,90)\n",
      "\n",
      "    print(\" Instructions: \\n\")\n",
      "    print(\" Draw a rectangle around the object using right mouse button \\n\")\n",
      "\n",
      "    while(1):\n",
      "\n",
      "        cv2.imshow('output',output)\n",
      "        cv2.imshow('input',img)\n",
      "        k = 0xFF & cv2.waitKey(1)\n",
      "\n",
      "        # key bindings\n",
      "        if k == 27:         # esc to exit\n",
      "            break\n",
      "        elif k == ord('0'): # BG drawing\n",
      "            print(\" mark background regions with left mouse button \\n\")\n",
      "            value = DRAW_BG\n",
      "        elif k == ord('1'): # FG drawing\n",
      "            print(\" mark foreground regions with left mouse button \\n\")\n",
      "            value = DRAW_FG\n",
      "        elif k == ord('2'): # PR_BG drawing\n",
      "            value = DRAW_PR_BG\n",
      "        elif k == ord('3'): # PR_FG drawing\n",
      "            value = DRAW_PR_FG\n",
      "        elif k == ord('s'): # save image\n",
      "            bar = np.zeros((img.shape[0],5,3),np.uint8)\n",
      "            res = np.hstack((img2,bar,img,bar,output))\n",
      "            cv2.imwrite('grabcut_output.png',res)\n",
      "            print(\" Result saved as image \\n\")\n",
      "        elif k == ord('r'): # reset everything\n",
      "            print(\"resetting \\n\")\n",
      "            rect = (0,0,1,1)\n",
      "            drawing = False\n",
      "            rectangle = False\n",
      "            rect_or_mask = 100\n",
      "            rect_over = False\n",
      "            value = DRAW_FG\n",
      "            img = img2.copy()\n",
      "            mask = np.zeros(img.shape[:2],dtype = np.uint8) # mask initialized to PR_BG\n",
      "            output = np.zeros(img.shape,np.uint8)           # output image to be shown\n",
      "        elif k == ord('n'): # segment the image\n",
      "            print(\"\"\" For finer touchups, mark foreground and background after pressing keys 0-3\n",
      "            and again press 'n' \\n\"\"\")\n",
      "            if (rect_or_mask == 0):         # grabcut with rect\n",
      "                bgdmodel = np.zeros((1,65),np.float64)\n",
      "                fgdmodel = np.zeros((1,65),np.float64)\n",
      "                cv2.grabCut(img2,mask,rect,bgdmodel,fgdmodel,1,cv2.GC_INIT_WITH_RECT)\n",
      "                rect_or_mask = 1\n",
      "            elif rect_or_mask == 1:         # grabcut with mask\n",
      "                bgdmodel = np.zeros((1,65),np.float64)\n",
      "                fgdmodel = np.zeros((1,65),np.float64)\n",
      "                cv2.grabCut(img2,mask,rect,bgdmodel,fgdmodel,1,cv2.GC_INIT_WITH_MASK)\n",
      "\n",
      "        mask2 = np.where((mask==1) + (mask==3),255,0).astype('uint8')\n",
      "        output = cv2.bitwise_and(img2,img2,mask=mask2)\n",
      "\n",
      "    cv2.destroyAllWindows()\n"
     ],
     "language": "python",
     "metadata": {},
     "outputs": [
      {
       "output_type": "stream",
       "stream": "stdout",
       "text": [
        "\n",
        "===============================================================================\n",
        "Interactive Image Segmentation using GrabCut algorithm.\n",
        "This sample shows interactive image segmentation using grabcut algorithm.\n",
        "USAGE:\n",
        "    python grabcut.py <filename>\n",
        "README FIRST:\n",
        "    Two windows will show up, one for input and one for output.\n",
        "    At first, in input window, draw a rectangle around the object using\n",
        "mouse right button. Then press 'n' to segment the object (once or a few times)\n",
        "For any finer touch-ups, you can press any of the keys below and draw lines on\n",
        "the areas you want. Then again press 'n' for updating the output.\n",
        "Key '0' - To select areas of sure background\n",
        "Key '1' - To select areas of sure foreground\n",
        "Key '2' - To select areas of probable background\n",
        "Key '3' - To select areas of probable foreground\n",
        "Key 'n' - To update the segmentation\n",
        "Key 'r' - To reset the setup\n",
        "Key 's' - To save the results\n",
        "===============================================================================\n",
        "\n",
        "No input image given, so loading default image, ../data/lena.jpg \n",
        "\n",
        "Correct Usage: python grabcut.py <filename> \n",
        "\n",
        "(500, 281)\n",
        " Instructions: \n"
       ]
      },
      {
       "output_type": "stream",
       "stream": "stdout",
       "text": [
        "\n",
        " Draw a rectangle around the object using right mouse button \n",
        "\n",
        " Now press the key 'n' a few times until no further change \n"
       ]
      },
      {
       "output_type": "stream",
       "stream": "stdout",
       "text": [
        "\n",
        " For finer touchups, mark foreground and background after pressing keys 0-3\n",
        "            and again press 'n' \n"
       ]
      },
      {
       "output_type": "stream",
       "stream": "stdout",
       "text": [
        "\n",
        " Result saved as image \n"
       ]
      },
      {
       "output_type": "stream",
       "stream": "stdout",
       "text": [
        "\n",
        " mark foreground regions with left mouse button \n"
       ]
      },
      {
       "output_type": "stream",
       "stream": "stdout",
       "text": [
        "\n",
        " Now press the key 'n' a few times until no further change \n"
       ]
      }
     ]
    },
    {
     "cell_type": "code",
     "collapsed": false,
     "input": [],
     "language": "python",
     "metadata": {},
     "outputs": []
    }
   ],
   "metadata": {}
  }
 ]
}